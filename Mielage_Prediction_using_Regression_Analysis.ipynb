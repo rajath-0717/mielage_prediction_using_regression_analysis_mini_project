{
 "cells": [
  {
   "cell_type": "markdown",
   "metadata": {
    "id": "UzK3Ujz134WB"
   },
   "source": [
    "# **Mielage Prediction using Regression Analysis**\n",
    "\n",
    "\n",
    "\n"
   ]
  },
  {
   "cell_type": "markdown",
   "metadata": {
    "id": "gScHkw6jjrLo"
   },
   "source": [
    "-------------"
   ]
  },
  {
   "cell_type": "markdown",
   "metadata": {
    "id": "Xns_rCdhh-vZ"
   },
   "source": [
    "## **Objective**"
   ]
  },
  {
   "cell_type": "markdown",
   "metadata": {
    "id": "-Vbnt9CciKJP"
   },
   "source": [
    "## **Data Source**"
   ]
  },
  {
   "cell_type": "markdown",
   "metadata": {
    "id": "9sPvnFM1iI9l"
   },
   "source": [
    "The objective of this project is to develop a predictive model for estimating a vehicle's fuel efficiency (mpg) using regression analysis. By analyzing features such as engine specifications (cylinders, displacement, horsepower), vehicle weight, acceleration, model year, and origin, the project aims to identify the most significant factors influencing mileage and provide accurate predictions. This model can serve as a valuable tool for understanding and optimizing vehicle performance."
   ]
  },
  {
   "cell_type": "markdown",
   "metadata": {
    "id": "sGcv5WqQiNyl"
   },
   "source": [
    "The dataset used in this project was obtained from the YBI Foundation GitHub repository, which provides diverse and insightful datasets for educational and analytical purposes."
   ]
  },
  {
   "cell_type": "markdown",
   "metadata": {
    "id": "r7GrZzX0iTlV"
   },
   "source": [
    "## **Import Library**"
   ]
  },
  {
   "cell_type": "code",
   "execution_count": 1,
   "metadata": {
    "id": "UkK6NH9DiW-X"
   },
   "outputs": [],
   "source": [
    "import pandas as pd"
   ]
  },
  {
   "cell_type": "markdown",
   "metadata": {
    "id": "9lHPQj1XiOUc"
   },
   "source": [
    "## **Import Data**"
   ]
  },
  {
   "cell_type": "code",
   "execution_count": null,
   "metadata": {
    "id": "zcU1fdnGho6M"
   },
   "outputs": [],
   "source": [
    "mileage = pd.read_csv('https://raw.githubusercontent.com/YBI-Foundation/Dataset/main/MPG.csv')"
   ]
  },
  {
   "cell_type": "markdown",
   "metadata": {
    "id": "7PUnimBoiX-x"
   },
   "source": [
    "## **Describe Data**"
   ]
  },
  {
   "cell_type": "code",
   "execution_count": null,
   "metadata": {
    "colab": {
     "base_uri": "https://localhost:8080/",
     "height": 300
    },
    "id": "kG15arusiZ8Z",
    "outputId": "f9ec6bbc-fafc-42ff-f536-7b70d28f7f7c"
   },
   "outputs": [],
   "source": [
    "mileage.describe()"
   ]
  },
  {
   "cell_type": "markdown",
   "metadata": {
    "id": "oBGX4Ekniriz"
   },
   "source": [
    "## **Data Visualization**"
   ]
  },
  {
   "cell_type": "code",
   "execution_count": null,
   "metadata": {
    "colab": {
     "base_uri": "https://localhost:8080/",
     "height": 206
    },
    "id": "lW-OIRK0iuzO",
    "outputId": "a2c698d0-9f8e-4f97-85b0-c7d577a40ab0"
   },
   "outputs": [],
   "source": [
    "mileage.head()"
   ]
  },
  {
   "cell_type": "markdown",
   "metadata": {
    "id": "UqfyPOCYiiww"
   },
   "source": [
    "## **Data Preprocessing**"
   ]
  },
  {
   "cell_type": "code",
   "execution_count": null,
   "metadata": {
    "colab": {
     "base_uri": "https://localhost:8080/"
    },
    "id": "3cyr3fbGin0A",
    "outputId": "589b921e-00fe-49a8-b1df-958b57797120"
   },
   "outputs": [],
   "source": [
    "mileage.info()"
   ]
  },
  {
   "cell_type": "code",
   "execution_count": null,
   "metadata": {
    "colab": {
     "base_uri": "https://localhost:8080/"
    },
    "id": "PhisQr-qSnni",
    "outputId": "46e82c0f-543e-4c61-b796-f0197128099f"
   },
   "outputs": [],
   "source": [
    "mileage.shape"
   ]
  },
  {
   "cell_type": "code",
   "execution_count": null,
   "metadata": {
    "colab": {
     "base_uri": "https://localhost:8080/",
     "height": 423
    },
    "id": "6wwIPfc9Suox",
    "outputId": "17c17043-9515-4604-c344-52dc167e8d8b"
   },
   "outputs": [],
   "source": [
    "mileage.dropna()"
   ]
  },
  {
   "cell_type": "markdown",
   "metadata": {
    "id": "2jXJpdAuiwYW"
   },
   "source": [
    "## **Define Target Variable (y) and Feature Variables (X)**"
   ]
  },
  {
   "cell_type": "code",
   "execution_count": null,
   "metadata": {
    "colab": {
     "base_uri": "https://localhost:8080/"
    },
    "id": "QBCakTuli57t",
    "outputId": "28055157-efa4-4ee1-b9b5-115ec30847a4"
   },
   "outputs": [],
   "source": [
    "mileage.columns"
   ]
  },
  {
   "cell_type": "code",
   "execution_count": null,
   "metadata": {
    "id": "gczUDxHFFidG"
   },
   "outputs": [],
   "source": [
    "Y = mileage['mpg']\n",
    "X = mileage[['cylinders', 'displacement', 'horsepower', 'weight',\n",
    "             'acceleration', 'model_year']]"
   ]
  },
  {
   "cell_type": "markdown",
   "metadata": {
    "id": "90_0q_Pbi658"
   },
   "source": [
    "## **Train Test Split**"
   ]
  },
  {
   "cell_type": "code",
   "execution_count": null,
   "metadata": {
    "id": "u60YYaOFi-Dw"
   },
   "outputs": [],
   "source": [
    "from sklearn.model_selection import train_test_split\n",
    "X_train, X_test, Y_train, Y_test = train_test_split(X, Y, test_size=0.3, random_state=2539)"
   ]
  },
  {
   "cell_type": "code",
   "execution_count": null,
   "metadata": {
    "colab": {
     "base_uri": "https://localhost:8080/",
     "height": 206
    },
    "id": "gMKj2RMDIXQb",
    "outputId": "048f8299-21e9-480c-b5e6-1fbe3af36e22"
   },
   "outputs": [],
   "source": [
    "X_test.head()"
   ]
  },
  {
   "cell_type": "markdown",
   "metadata": {
    "id": "cIhyseNria7W"
   },
   "source": [
    "## **Modeling**"
   ]
  },
  {
   "cell_type": "code",
   "execution_count": null,
   "metadata": {
    "id": "Toq58wpkjCw7"
   },
   "outputs": [],
   "source": [
    "from sklearn.linear_model import LinearRegression\n",
    "model = LinearRegression()"
   ]
  },
  {
   "cell_type": "markdown",
   "metadata": {
    "id": "vhAwWfG0jFun"
   },
   "source": [
    "## **Model Evaluation**"
   ]
  },
  {
   "cell_type": "code",
   "execution_count": null,
   "metadata": {
    "colab": {
     "base_uri": "https://localhost:8080/",
     "height": 80
    },
    "id": "Lxc675nQbIdR",
    "outputId": "afd8dac4-f6fc-4acb-9e1d-00042bb74ce6"
   },
   "outputs": [],
   "source": [
    "# Drop missing values in X_train and align Y_train\n",
    "X_train = X_train.dropna()\n",
    "Y_train = Y_train.loc[X_train.index]  # Align Y_train with X_train indices\n",
    "\n",
    "# Drop missing values in X_test and align Y_test\n",
    "X_test = X_test.dropna()\n",
    "Y_test = Y_test.loc[X_test.index]  # Align Y_test with X_test indices\n",
    "model.fit(X_train, Y_train)"
   ]
  },
  {
   "cell_type": "markdown",
   "metadata": {
    "id": "8AzwG7oLjiQI"
   },
   "source": [
    "## **Prediction**"
   ]
  },
  {
   "cell_type": "code",
   "execution_count": null,
   "metadata": {
    "id": "JLebGzDJjknA"
   },
   "outputs": [],
   "source": [
    "Y_pred = model.predict(X_test)"
   ]
  },
  {
   "cell_type": "markdown",
   "metadata": {
    "id": "a7dX2RF-I82E"
   },
   "source": [
    "## **Accuracy**"
   ]
  },
  {
   "cell_type": "code",
   "execution_count": null,
   "metadata": {
    "colab": {
     "base_uri": "https://localhost:8080/"
    },
    "id": "OlUCUqVQJHKs",
    "outputId": "bbe9dab1-46ce-42c0-95d7-3dadeba14900"
   },
   "outputs": [],
   "source": [
    "from sklearn.metrics import mean_absolute_percentage_error\n",
    "mean_absolute_percentage_error(Y_test, Y_pred)"
   ]
  },
  {
   "cell_type": "markdown",
   "metadata": {
    "id": "SBo38CJZjlEX"
   },
   "source": [
    "## **Explaination**"
   ]
  },
  {
   "cell_type": "markdown",
   "metadata": {
    "id": "Ybi8FR9Kjv00"
   },
   "source": [
    "This mileage prediction model using linear regression reveals several key insights:\n",
    "1. Model Performance:\n",
    "   - The Mean Absolute Percentage Error (MAPE) indicates the average percentage deviation of predictions\n",
    "\n",
    "2. Feature Importance:\n",
    "   - The model coefficients show the impact of each feature on MPG\n",
    "   - Weight and displacement typically have strong negative correlations with MPG\n",
    "   - Model year generally has a positive correlation, suggesting newer cars tend to be more fuel-efficient\n",
    "\n",
    "3. Data Quality:\n",
    "   - Missing values were handled by removal to ensure data quality\n",
    "   - The dataset provides a good representation of various car characteristics\n",
    "\n",
    "4. Limitations:\n",
    "   - The model assumes linear relationships between features and MPG\n",
    "   - It doesn't account for interaction effects between features\n",
    "   - The prediction accuracy might vary for cars very different from those in the training data"
   ]
  }
 ],
 "metadata": {
  "colab": {
   "provenance": []
  },
  "kernelspec": {
   "display_name": "Python 3",
   "name": "python3"
  },
  "language_info": {
   "codemirror_mode": {
    "name": "ipython",
    "version": 3
   },
   "file_extension": ".py",
   "mimetype": "text/x-python",
   "name": "python",
   "nbconvert_exporter": "python",
   "pygments_lexer": "ipython3",
   "version": "3.12.4"
  }
 },
 "nbformat": 4,
 "nbformat_minor": 0
}
